{
 "cells": [
  {
   "cell_type": "markdown",
   "metadata": {},
   "source": [
    "## Housekeeping"
   ]
  },
  {
   "cell_type": "code",
   "execution_count": 1,
   "metadata": {},
   "outputs": [],
   "source": [
    "import numpy as np\n",
    "import pandas as pd\n",
    "import seaborn as sns\n",
    "\n",
    "import matplotlib as mpl\n",
    "from matplotlib import pyplot as plt\n",
    "import numpy as np\n",
    "from sklearn import datasets, linear_model\n",
    "from sklearn.metrics import mean_squared_error, r2_score\n",
    "from scipy.optimize import curve_fit\n",
    "import scipy.stats as stats"
   ]
  },
  {
   "cell_type": "code",
   "execution_count": 2,
   "metadata": {},
   "outputs": [
    {
     "name": "stdout",
     "output_type": "stream",
     "text": [
      "O:\\TUD\\__Arp-cortex\\_____final-for-thesis\\code\\data\n"
     ]
    }
   ],
   "source": [
    "cd O:\\TUD\\__Arp-cortex\\_____final-for-thesis\\code\\data"
   ]
  },
  {
   "cell_type": "code",
   "execution_count": 3,
   "metadata": {},
   "outputs": [],
   "source": [
    "sns.set_context('talk')"
   ]
  },
  {
   "cell_type": "markdown",
   "metadata": {},
   "source": [
    "# Load data"
   ]
  },
  {
   "cell_type": "markdown",
   "metadata": {},
   "source": [
    "Load data (manual characterization done in Fiji and saved in excel table)"
   ]
  },
  {
   "cell_type": "code",
   "execution_count": 4,
   "metadata": {},
   "outputs": [
    {
     "data": {
      "text/html": [
       "<div>\n",
       "<style scoped>\n",
       "    .dataframe tbody tr th:only-of-type {\n",
       "        vertical-align: middle;\n",
       "    }\n",
       "\n",
       "    .dataframe tbody tr th {\n",
       "        vertical-align: top;\n",
       "    }\n",
       "\n",
       "    .dataframe thead th {\n",
       "        text-align: right;\n",
       "    }\n",
       "</style>\n",
       "<table border=\"1\" class=\"dataframe\">\n",
       "  <thead>\n",
       "    <tr style=\"text-align: right;\">\n",
       "      <th></th>\n",
       "      <th>date</th>\n",
       "      <th>run</th>\n",
       "      <th>image</th>\n",
       "      <th>actin (uM)</th>\n",
       "      <th>Arp type</th>\n",
       "      <th>VCA (uM)</th>\n",
       "      <th>actin inside</th>\n",
       "      <th>cortex</th>\n",
       "      <th>flat patches</th>\n",
       "      <th>concave patches</th>\n",
       "      <th>...</th>\n",
       "      <th>loc spike</th>\n",
       "      <th>bouquet</th>\n",
       "      <th>inward tube</th>\n",
       "      <th>inward fuzz</th>\n",
       "      <th>membrane kinks</th>\n",
       "      <th>global deformation</th>\n",
       "      <th>dumbbell</th>\n",
       "      <th>dumbbell loc</th>\n",
       "      <th>inside patch</th>\n",
       "      <th>diameter (um)</th>\n",
       "    </tr>\n",
       "  </thead>\n",
       "  <tbody>\n",
       "    <tr>\n",
       "      <th>0</th>\n",
       "      <td>20211114</td>\n",
       "      <td>1</td>\n",
       "      <td>20211114_run1_8uMactin_VCA5uM_00128_zstack_1um-5</td>\n",
       "      <td>8</td>\n",
       "      <td>B5L</td>\n",
       "      <td>5.0</td>\n",
       "      <td>1.0</td>\n",
       "      <td>1.0</td>\n",
       "      <td>0</td>\n",
       "      <td>0</td>\n",
       "      <td>...</td>\n",
       "      <td>0</td>\n",
       "      <td>0</td>\n",
       "      <td>1</td>\n",
       "      <td>1</td>\n",
       "      <td>0</td>\n",
       "      <td>1</td>\n",
       "      <td>0</td>\n",
       "      <td>0.0</td>\n",
       "      <td>0</td>\n",
       "      <td>13.000</td>\n",
       "    </tr>\n",
       "    <tr>\n",
       "      <th>1</th>\n",
       "      <td>20211114</td>\n",
       "      <td>1</td>\n",
       "      <td>20211114_run1_8uMactin_VCA5uM_00128_zstack_1um-4</td>\n",
       "      <td>8</td>\n",
       "      <td>B5L</td>\n",
       "      <td>5.0</td>\n",
       "      <td>1.0</td>\n",
       "      <td>1.0</td>\n",
       "      <td>0</td>\n",
       "      <td>0</td>\n",
       "      <td>...</td>\n",
       "      <td>0</td>\n",
       "      <td>0</td>\n",
       "      <td>1</td>\n",
       "      <td>0</td>\n",
       "      <td>0</td>\n",
       "      <td>1</td>\n",
       "      <td>0</td>\n",
       "      <td>0.0</td>\n",
       "      <td>0</td>\n",
       "      <td>14.161</td>\n",
       "    </tr>\n",
       "    <tr>\n",
       "      <th>2</th>\n",
       "      <td>20211114</td>\n",
       "      <td>1</td>\n",
       "      <td>20211114_run1_8uMactin_VCA5uM_00128_zstack_1um-3</td>\n",
       "      <td>8</td>\n",
       "      <td>B5L</td>\n",
       "      <td>5.0</td>\n",
       "      <td>1.0</td>\n",
       "      <td>1.0</td>\n",
       "      <td>0</td>\n",
       "      <td>0</td>\n",
       "      <td>...</td>\n",
       "      <td>0</td>\n",
       "      <td>0</td>\n",
       "      <td>0</td>\n",
       "      <td>1</td>\n",
       "      <td>0</td>\n",
       "      <td>0</td>\n",
       "      <td>0</td>\n",
       "      <td>0.0</td>\n",
       "      <td>0</td>\n",
       "      <td>14.637</td>\n",
       "    </tr>\n",
       "  </tbody>\n",
       "</table>\n",
       "<p>3 rows × 23 columns</p>\n",
       "</div>"
      ],
      "text/plain": [
       "       date  run                                             image  \\\n",
       "0  20211114    1  20211114_run1_8uMactin_VCA5uM_00128_zstack_1um-5   \n",
       "1  20211114    1  20211114_run1_8uMactin_VCA5uM_00128_zstack_1um-4   \n",
       "2  20211114    1  20211114_run1_8uMactin_VCA5uM_00128_zstack_1um-3   \n",
       "\n",
       "   actin (uM) Arp type  VCA (uM)  actin inside  cortex  flat patches  \\\n",
       "0           8      B5L       5.0           1.0     1.0             0   \n",
       "1           8      B5L       5.0           1.0     1.0             0   \n",
       "2           8      B5L       5.0           1.0     1.0             0   \n",
       "\n",
       "   concave patches  ...  loc spike  bouquet  inward tube  inward fuzz  \\\n",
       "0                0  ...          0        0            1            1   \n",
       "1                0  ...          0        0            1            0   \n",
       "2                0  ...          0        0            0            1   \n",
       "\n",
       "   membrane kinks  global deformation  dumbbell  dumbbell loc  inside patch  \\\n",
       "0               0                   1         0           0.0             0   \n",
       "1               0                   1         0           0.0             0   \n",
       "2               0                   0         0           0.0             0   \n",
       "\n",
       "   diameter (um)  \n",
       "0         13.000  \n",
       "1         14.161  \n",
       "2         14.637  \n",
       "\n",
       "[3 rows x 23 columns]"
      ]
     },
     "execution_count": 4,
     "metadata": {},
     "output_type": "execute_result"
    }
   ],
   "source": [
    "df = pd.read_csv('results_categorization_manual20220116.txt', sep='\\t', decimal=\",\")\n",
    "df.drop(columns=['Unnamed: 23'], inplace=True)\n",
    "df.head(3)"
   ]
  },
  {
   "cell_type": "markdown",
   "metadata": {},
   "source": [
    "# GUV sizes"
   ]
  },
  {
   "cell_type": "markdown",
   "metadata": {},
   "source": [
    "Plot"
   ]
  },
  {
   "cell_type": "code",
   "execution_count": 5,
   "metadata": {},
   "outputs": [
    {
     "data": {
      "image/png": "[encoded data removed]",
      "text/plain": [
       "<Figure size 432x432 with 2 Axes>"
      ]
     },
     "metadata": {
      "needs_background": "light"
     },
     "output_type": "display_data"
    }
   ],
   "source": [
    "#f = plt.figure(figsize=[3, 7])\n",
    "from matplotlib import gridspec\n",
    "\n",
    "fig, ax =plt.subplots(nrows=1,ncols=2, figsize=[6,6]) \n",
    "gs = gridspec.GridSpec(1, 2, width_ratios=[1, 1]) \n",
    "\n",
    "sns.stripplot(data=df, x='VCA (uM)', y='diameter (um)', size=5, alpha=0.4, color='c', ax=ax[0])\n",
    "sns.boxplot(data=df, x='VCA (uM)', y='diameter (um)',  color='white', ax=ax[0])\n",
    "sns.histplot( data=df, y='diameter (um)', color='c',  ax=ax[1])\n",
    "\n",
    "ax[1].set(ylabel=None)\n",
    "ax[1].set(yticklabels=[])\n",
    "ax[1].set_xlim(0,100)\n",
    "\n",
    "fig.savefig('sizes-per-sample_narrow.png', dpi=300, bbox_inches='tight')"
   ]
  },
  {
   "cell_type": "markdown",
   "metadata": {},
   "source": [
    "Mean and StDev of the distributions"
   ]
  },
  {
   "cell_type": "code",
   "execution_count": 6,
   "metadata": {},
   "outputs": [
    {
     "data": {
      "text/plain": [
       "run\n",
       "1    9.543564\n",
       "2    8.566971\n",
       "3    8.640503\n",
       "4    9.607041\n",
       "Name: diameter (um), dtype: float64"
      ]
     },
     "execution_count": 6,
     "metadata": {},
     "output_type": "execute_result"
    }
   ],
   "source": [
    "df.groupby('run').mean()['diameter (um)']"
   ]
  },
  {
   "cell_type": "code",
   "execution_count": 7,
   "metadata": {},
   "outputs": [
    {
     "data": {
      "text/plain": [
       "run\n",
       "1    7.183329\n",
       "2    5.873830\n",
       "3    5.791001\n",
       "4    5.616000\n",
       "Name: diameter (um), dtype: float64"
      ]
     },
     "execution_count": 7,
     "metadata": {},
     "output_type": "execute_result"
    }
   ],
   "source": [
    "df.groupby('run').std()['diameter (um)']"
   ]
  },
  {
   "cell_type": "markdown",
   "metadata": {},
   "source": [
    "Statistical test: are the distribution means the same?"
   ]
  },
  {
   "cell_type": "code",
   "execution_count": 8,
   "metadata": {},
   "outputs": [
    {
     "name": "stdout",
     "output_type": "stream",
     "text": [
      "p by ANOVA= 0.3876829568893929\n"
     ]
    }
   ],
   "source": [
    "# stats f_oneway functions takes the groups as input and returns ANOVA F and p value\n",
    "fvalue, pvalue = stats.f_oneway(df.loc[df['run']==1]['diameter (um)'], \n",
    "                                df.loc[df['run']==2]['diameter (um)'],\n",
    "                                df.loc[df['run']==3]['diameter (um)'], \n",
    "                                df.loc[df['run']==4]['diameter (um)'])\n",
    "print('p by ANOVA= '+str(pvalue))"
   ]
  },
  {
   "cell_type": "markdown",
   "metadata": {},
   "source": [
    "# GUV classification"
   ]
  },
  {
   "cell_type": "markdown",
   "metadata": {},
   "source": [
    "### empty GUVs"
   ]
  },
  {
   "cell_type": "code",
   "execution_count": 9,
   "metadata": {
    "scrolled": true
   },
   "outputs": [
    {
     "name": "stderr",
     "output_type": "stream",
     "text": [
      "<ipython-input-9-dfc365c7a349>:22: SettingWithCopyWarning: \n",
      "A value is trying to be set on a copy of a slice from a DataFrame\n",
      "\n",
      "See the caveats in the documentation: https://pandas.pydata.org/pandas-docs/stable/user_guide/indexing.html#returning-a-view-versus-a-copy\n",
      "  df['type'][ii]='5 uM VCA'\n",
      "<ipython-input-9-dfc365c7a349>:10: SettingWithCopyWarning: \n",
      "A value is trying to be set on a copy of a slice from a DataFrame\n",
      "\n",
      "See the caveats in the documentation: https://pandas.pydata.org/pandas-docs/stable/user_guide/indexing.html#returning-a-view-versus-a-copy\n",
      "  df['type'][ii]='empty'\n",
      "<ipython-input-9-dfc365c7a349>:19: SettingWithCopyWarning: \n",
      "A value is trying to be set on a copy of a slice from a DataFrame\n",
      "\n",
      "See the caveats in the documentation: https://pandas.pydata.org/pandas-docs/stable/user_guide/indexing.html#returning-a-view-versus-a-copy\n",
      "  df['type'][ii]='2 uM VCA'\n",
      "<ipython-input-9-dfc365c7a349>:16: SettingWithCopyWarning: \n",
      "A value is trying to be set on a copy of a slice from a DataFrame\n",
      "\n",
      "See the caveats in the documentation: https://pandas.pydata.org/pandas-docs/stable/user_guide/indexing.html#returning-a-view-versus-a-copy\n",
      "  df['type'][ii]='1 uM VCA'\n",
      "<ipython-input-9-dfc365c7a349>:13: SettingWithCopyWarning: \n",
      "A value is trying to be set on a copy of a slice from a DataFrame\n",
      "\n",
      "See the caveats in the documentation: https://pandas.pydata.org/pandas-docs/stable/user_guide/indexing.html#returning-a-view-versus-a-copy\n",
      "  df['type'][ii]='0.5 uM VCA'\n"
     ]
    }
   ],
   "source": [
    "type_order = ['empty', '0.5 uM VCA', '1 uM VCA',  '2 uM VCA', '5 uM VCA']\n",
    "VCA_order = ['none', 0.65, 1.3, 2.6, 6.5]\n",
    "\n",
    "df['type'] = [ '' ]*len(df)\n",
    "\n",
    "for ii in range(len(df)):\n",
    "    #print(ii)\n",
    "    \n",
    "    if df['actin inside'][ii]==0:\n",
    "        df['type'][ii]='empty'\n",
    "        \n",
    "    elif df['VCA (uM)'][ii]==0.5:\n",
    "        df['type'][ii]='0.5 uM VCA'\n",
    "\n",
    "    elif df['VCA (uM)'][ii]==1:\n",
    "        df['type'][ii]='1 uM VCA'\n",
    "        \n",
    "    elif df['VCA (uM)'][ii]==2:\n",
    "        df['type'][ii]='2 uM VCA'\n",
    "        \n",
    "    elif df['VCA (uM)'][ii]==5:\n",
    "        df['type'][ii]='5 uM VCA'\n"
   ]
  },
  {
   "cell_type": "code",
   "execution_count": 10,
   "metadata": {},
   "outputs": [
    {
     "name": "stdout",
     "output_type": "stream",
     "text": [
      "All GUVs:\n",
      "empty: 60\n",
      "0.5 uM VCA: 85\n",
      "1 uM VCA: 129\n",
      "2 uM VCA: 121\n",
      "5 uM VCA: 99\n",
      "494\n"
     ]
    }
   ],
   "source": [
    "print('All GUVs:')\n",
    "\n",
    "for type in ['empty', '0.5 uM VCA', '1 uM VCA', '2 uM VCA', '5 uM VCA']:\n",
    "    print(type + ': ' + str(len(df.loc[df['type'] == type])))\n",
    "\n",
    "print(len(df))"
   ]
  },
  {
   "cell_type": "markdown",
   "metadata": {},
   "source": [
    "### generalized protrusions"
   ]
  },
  {
   "cell_type": "code",
   "execution_count": 11,
   "metadata": {
    "scrolled": true
   },
   "outputs": [
    {
     "name": "stderr",
     "output_type": "stream",
     "text": [
      "<ipython-input-11-1a50537ce3fd>:6: SettingWithCopyWarning: \n",
      "A value is trying to be set on a copy of a slice from a DataFrame\n",
      "\n",
      "See the caveats in the documentation: https://pandas.pydata.org/pandas-docs/stable/user_guide/indexing.html#returning-a-view-versus-a-copy\n",
      "  df['spike/nose'][ii]=1\n"
     ]
    }
   ],
   "source": [
    "df['spike/nose'] = [ 0 ]*len(df)\n",
    "\n",
    "for ii in range(len(df)):\n",
    "    \n",
    "    if df['outward spikes'][ii]==1 :\n",
    "        df['spike/nose'][ii]=1"
   ]
  },
  {
   "cell_type": "code",
   "execution_count": 12,
   "metadata": {
    "scrolled": true
   },
   "outputs": [
    {
     "name": "stderr",
     "output_type": "stream",
     "text": [
      "<ipython-input-12-b862e600de9c>:6: SettingWithCopyWarning: \n",
      "A value is trying to be set on a copy of a slice from a DataFrame\n",
      "\n",
      "See the caveats in the documentation: https://pandas.pydata.org/pandas-docs/stable/user_guide/indexing.html#returning-a-view-versus-a-copy\n",
      "  df['protrusion'][ii]=1\n"
     ]
    }
   ],
   "source": [
    "df['protrusion'] = [ 0 ]*len(df)\n",
    "\n",
    "for ii in range(len(df)):\n",
    "    \n",
    "    if df['outward tubes'][ii]==1 or df['spike/nose'][ii]==1 :\n",
    "        df['protrusion'][ii]=1"
   ]
  },
  {
   "cell_type": "code",
   "execution_count": 13,
   "metadata": {},
   "outputs": [],
   "source": [
    "#What do I want to know? \n",
    "\n",
    "interests = pd.DataFrame(\n",
    "    [['type', 'protrusion', 'all', -1],\n",
    "    ['type', 'protrusion', 'cortex', 1], \n",
    "     ['type', 'protrusion', 'cortex', 0], \n",
    "     ['type', 'outward tubes', 'all', -1], \n",
    "     ['type', 'outward tubes', 'cortex', 1], \n",
    "     ['type', 'outward tubes', 'cortex', 0],\n",
    "     ['type', 'outward spikes', 'all', -1],\n",
    "     ['type', 'outward spikes', 'cortex', 1], \n",
    "     ['type', 'outward spikes', 'cortex', 0],\n",
    "     ['type', 'membrane kinks', 'all', -1],\n",
    "     ['type', 'membrane kinks', 'cortex', 1], \n",
    "     ['type', 'membrane kinks', 'cortex', 0],\n",
    "     ['type', 'bouquet', 'all', -1], \n",
    "     ['type', 'bouquet', 'protrusion', 1], \n",
    "     ['type', 'bouquet', 'protrusion', 0], \n",
    "     ['type', 'global deformation', 'all', -1], \n",
    "     ['type', 'global deformation', 'cortex', 1], \n",
    "     ['type', 'global deformation', 'cortex', 0],\n",
    "     ['type', 'cortex', 'all', -1],\n",
    "     ['type', 'cortex', 'actin inside', 1], \n",
    "     ['type', 'cortex', 'actin inside', 0],\n",
    "     ['type', 'inward fuzz', 'all', -1],\n",
    "     ['type', 'inward fuzz', 'actin inside', 1], \n",
    "     ['type', 'inward fuzz', 'actin inside', 0],\n",
    "     ['type', 'spike/nose', 'all', -1],\n",
    "     ['type', 'spike/nose', 'actin inside', 1], \n",
    "     ['type', 'spike/nose', 'actin inside', 0],\n",
    "    ], \n",
    "    columns=['group', 'characteristic', 'condition', 'condition value'])\n",
    "\n",
    "#interests"
   ]
  },
  {
   "cell_type": "code",
   "execution_count": 14,
   "metadata": {
    "scrolled": true
   },
   "outputs": [
    {
     "data": {
      "text/html": [
       "<div>\n",
       "<style scoped>\n",
       "    .dataframe tbody tr th:only-of-type {\n",
       "        vertical-align: middle;\n",
       "    }\n",
       "\n",
       "    .dataframe tbody tr th {\n",
       "        vertical-align: top;\n",
       "    }\n",
       "\n",
       "    .dataframe thead th {\n",
       "        text-align: right;\n",
       "    }\n",
       "</style>\n",
       "<table border=\"1\" class=\"dataframe\">\n",
       "  <thead>\n",
       "    <tr style=\"text-align: right;\">\n",
       "      <th></th>\n",
       "      <th>type</th>\n",
       "      <th>% of GUVs</th>\n",
       "      <th>phenotype</th>\n",
       "      <th>condition</th>\n",
       "      <th>condition value</th>\n",
       "      <th>count</th>\n",
       "    </tr>\n",
       "  </thead>\n",
       "  <tbody>\n",
       "    <tr>\n",
       "      <th>1.0</th>\n",
       "      <td>0.5 uM VCA</td>\n",
       "      <td>5.882353</td>\n",
       "      <td>protrusion</td>\n",
       "      <td>all</td>\n",
       "      <td>-1</td>\n",
       "      <td>85</td>\n",
       "    </tr>\n",
       "    <tr>\n",
       "      <th>3.0</th>\n",
       "      <td>1 uM VCA</td>\n",
       "      <td>44.186047</td>\n",
       "      <td>protrusion</td>\n",
       "      <td>all</td>\n",
       "      <td>-1</td>\n",
       "      <td>129</td>\n",
       "    </tr>\n",
       "    <tr>\n",
       "      <th>5.0</th>\n",
       "      <td>2 uM VCA</td>\n",
       "      <td>48.760331</td>\n",
       "      <td>protrusion</td>\n",
       "      <td>all</td>\n",
       "      <td>-1</td>\n",
       "      <td>121</td>\n",
       "    </tr>\n",
       "    <tr>\n",
       "      <th>7.0</th>\n",
       "      <td>5 uM VCA</td>\n",
       "      <td>45.454545</td>\n",
       "      <td>protrusion</td>\n",
       "      <td>all</td>\n",
       "      <td>-1</td>\n",
       "      <td>99</td>\n",
       "    </tr>\n",
       "    <tr>\n",
       "      <th>9.0</th>\n",
       "      <td>empty</td>\n",
       "      <td>1.666667</td>\n",
       "      <td>protrusion</td>\n",
       "      <td>all</td>\n",
       "      <td>-1</td>\n",
       "      <td>60</td>\n",
       "    </tr>\n",
       "    <tr>\n",
       "      <th>...</th>\n",
       "      <td>...</td>\n",
       "      <td>...</td>\n",
       "      <td>...</td>\n",
       "      <td>...</td>\n",
       "      <td>...</td>\n",
       "      <td>...</td>\n",
       "    </tr>\n",
       "    <tr>\n",
       "      <th>1</th>\n",
       "      <td>0.5 uM VCA</td>\n",
       "      <td>1.388889</td>\n",
       "      <td>spike/nose</td>\n",
       "      <td>actin inside</td>\n",
       "      <td>1</td>\n",
       "      <td>72</td>\n",
       "    </tr>\n",
       "    <tr>\n",
       "      <th>3</th>\n",
       "      <td>1 uM VCA</td>\n",
       "      <td>9.909910</td>\n",
       "      <td>spike/nose</td>\n",
       "      <td>actin inside</td>\n",
       "      <td>1</td>\n",
       "      <td>111</td>\n",
       "    </tr>\n",
       "    <tr>\n",
       "      <th>5</th>\n",
       "      <td>2 uM VCA</td>\n",
       "      <td>13.861386</td>\n",
       "      <td>spike/nose</td>\n",
       "      <td>actin inside</td>\n",
       "      <td>1</td>\n",
       "      <td>101</td>\n",
       "    </tr>\n",
       "    <tr>\n",
       "      <th>7</th>\n",
       "      <td>5 uM VCA</td>\n",
       "      <td>8.045977</td>\n",
       "      <td>spike/nose</td>\n",
       "      <td>actin inside</td>\n",
       "      <td>1</td>\n",
       "      <td>87</td>\n",
       "    </tr>\n",
       "    <tr>\n",
       "      <th>empty</th>\n",
       "      <td>empty</td>\n",
       "      <td>NaN</td>\n",
       "      <td>NaN</td>\n",
       "      <td>NaN</td>\n",
       "      <td>NaN</td>\n",
       "      <td>60</td>\n",
       "    </tr>\n",
       "  </tbody>\n",
       "</table>\n",
       "<p>115 rows × 6 columns</p>\n",
       "</div>"
      ],
      "text/plain": [
       "             type  % of GUVs   phenotype     condition condition value count\n",
       "1.0    0.5 uM VCA   5.882353  protrusion           all              -1    85\n",
       "3.0      1 uM VCA  44.186047  protrusion           all              -1   129\n",
       "5.0      2 uM VCA  48.760331  protrusion           all              -1   121\n",
       "7.0      5 uM VCA  45.454545  protrusion           all              -1    99\n",
       "9.0         empty   1.666667  protrusion           all              -1    60\n",
       "...           ...        ...         ...           ...             ...   ...\n",
       "1      0.5 uM VCA   1.388889  spike/nose  actin inside               1    72\n",
       "3        1 uM VCA   9.909910  spike/nose  actin inside               1   111\n",
       "5        2 uM VCA  13.861386  spike/nose  actin inside               1   101\n",
       "7        5 uM VCA   8.045977  spike/nose  actin inside               1    87\n",
       "empty       empty        NaN         NaN           NaN             NaN    60\n",
       "\n",
       "[115 rows x 6 columns]"
      ]
     },
     "execution_count": 14,
     "metadata": {},
     "output_type": "execute_result"
    }
   ],
   "source": [
    "df_statistics = pd.DataFrame(columns=[\"type\", \n",
    "                                      \"% of GUVs\", \n",
    "                                      \"phenotype\", \n",
    "                                      \"condition\", \n",
    "                                      \"condition value\", \n",
    "                                      \"count\"])\n",
    "\n",
    "for ii in range(len(interests)):\n",
    "    \n",
    "    # define the measurement\n",
    "    GROUP = interests['group'][ii]\n",
    "    CHAR = interests['characteristic'][ii]\n",
    "    COND = interests['condition'][ii]\n",
    "    COND_value = interests['condition value'][ii]\n",
    "    \n",
    "    if COND == 'all':\n",
    "        # calculate prevalence of phenotype for each group (no preconditions)\n",
    "        df_temp = df.groupby(GROUP)[CHAR].value_counts(normalize=True)*100\n",
    "        df_temp = df_temp.to_frame(name='% of GUVs').reset_index()\n",
    "        df_temp = df_temp.loc[ df_temp[CHAR] == 1]\n",
    "        \n",
    "        df_temp[ \"condition\" ] = [ COND ]*len(df_temp)\n",
    "        df_temp[ \"condition value\" ] = [ COND_value ]*len(df_temp)\n",
    "\n",
    "        # sample sizes for each group\n",
    "        nobs = df.groupby([GROUP])[CHAR].agg(['count'])\n",
    "        \n",
    "    else:\n",
    "        # calculate prevalence of phenotype for each group (under the condition)\n",
    "        df_temp = df.loc[df[COND]==COND_value].groupby(GROUP)[CHAR].value_counts(normalize=True)*100\n",
    "        df_temp = df_temp.to_frame(name='% of GUVs').reset_index()\n",
    "        df_temp = df_temp.loc[ df_temp[CHAR] == 1]\n",
    "\n",
    "\n",
    "        df_temp[ \"condition\" ] = [ COND ]*len(df_temp)\n",
    "        df_temp[ \"condition value\" ] = [ COND_value ]*len(df_temp)\n",
    "\n",
    "        # sample sizes for each group\n",
    "        nobs = df.loc[df[COND]==COND_value].groupby([GROUP])[CHAR].agg(['count'])\n",
    "    \n",
    "    df_temp[ \"phenotype\" ]= CHAR\n",
    "    \n",
    "    # make the dataframe nice\n",
    "    df_temp = df_temp.join(nobs, on=GROUP , how='outer')\n",
    "    df_temp.drop(columns=CHAR, inplace=True)\n",
    "    \n",
    "    # bring different measurements together\n",
    "    df_statistics = pd.concat([df_statistics, df_temp])#.reset_index()\n",
    "    \n",
    "df_statistics"
   ]
  },
  {
   "cell_type": "code",
   "execution_count": 15,
   "metadata": {},
   "outputs": [
    {
     "data": {
      "text/html": [
       "<div>\n",
       "<style scoped>\n",
       "    .dataframe tbody tr th:only-of-type {\n",
       "        vertical-align: middle;\n",
       "    }\n",
       "\n",
       "    .dataframe tbody tr th {\n",
       "        vertical-align: top;\n",
       "    }\n",
       "\n",
       "    .dataframe thead th {\n",
       "        text-align: right;\n",
       "    }\n",
       "</style>\n",
       "<table border=\"1\" class=\"dataframe\">\n",
       "  <thead>\n",
       "    <tr style=\"text-align: right;\">\n",
       "      <th></th>\n",
       "      <th>type</th>\n",
       "      <th>% of GUVs</th>\n",
       "      <th>phenotype</th>\n",
       "      <th>condition</th>\n",
       "      <th>condition value</th>\n",
       "      <th>count</th>\n",
       "      <th>VCA (uM)</th>\n",
       "    </tr>\n",
       "  </thead>\n",
       "  <tbody>\n",
       "    <tr>\n",
       "      <th>1.0</th>\n",
       "      <td>0.5 uM VCA</td>\n",
       "      <td>5.882353</td>\n",
       "      <td>protrusion</td>\n",
       "      <td>all</td>\n",
       "      <td>-1</td>\n",
       "      <td>85</td>\n",
       "      <td>0.65</td>\n",
       "    </tr>\n",
       "    <tr>\n",
       "      <th>3.0</th>\n",
       "      <td>1 uM VCA</td>\n",
       "      <td>44.186047</td>\n",
       "      <td>protrusion</td>\n",
       "      <td>all</td>\n",
       "      <td>-1</td>\n",
       "      <td>129</td>\n",
       "      <td>1.3</td>\n",
       "    </tr>\n",
       "    <tr>\n",
       "      <th>5.0</th>\n",
       "      <td>2 uM VCA</td>\n",
       "      <td>48.760331</td>\n",
       "      <td>protrusion</td>\n",
       "      <td>all</td>\n",
       "      <td>-1</td>\n",
       "      <td>121</td>\n",
       "      <td>2.6</td>\n",
       "    </tr>\n",
       "    <tr>\n",
       "      <th>7.0</th>\n",
       "      <td>5 uM VCA</td>\n",
       "      <td>45.454545</td>\n",
       "      <td>protrusion</td>\n",
       "      <td>all</td>\n",
       "      <td>-1</td>\n",
       "      <td>99</td>\n",
       "      <td>6.5</td>\n",
       "    </tr>\n",
       "    <tr>\n",
       "      <th>9.0</th>\n",
       "      <td>empty</td>\n",
       "      <td>1.666667</td>\n",
       "      <td>protrusion</td>\n",
       "      <td>all</td>\n",
       "      <td>-1</td>\n",
       "      <td>60</td>\n",
       "      <td>none</td>\n",
       "    </tr>\n",
       "    <tr>\n",
       "      <th>...</th>\n",
       "      <td>...</td>\n",
       "      <td>...</td>\n",
       "      <td>...</td>\n",
       "      <td>...</td>\n",
       "      <td>...</td>\n",
       "      <td>...</td>\n",
       "      <td>...</td>\n",
       "    </tr>\n",
       "    <tr>\n",
       "      <th>1</th>\n",
       "      <td>0.5 uM VCA</td>\n",
       "      <td>1.388889</td>\n",
       "      <td>spike/nose</td>\n",
       "      <td>actin inside</td>\n",
       "      <td>1</td>\n",
       "      <td>72</td>\n",
       "      <td>0.65</td>\n",
       "    </tr>\n",
       "    <tr>\n",
       "      <th>3</th>\n",
       "      <td>1 uM VCA</td>\n",
       "      <td>9.909910</td>\n",
       "      <td>spike/nose</td>\n",
       "      <td>actin inside</td>\n",
       "      <td>1</td>\n",
       "      <td>111</td>\n",
       "      <td>1.3</td>\n",
       "    </tr>\n",
       "    <tr>\n",
       "      <th>5</th>\n",
       "      <td>2 uM VCA</td>\n",
       "      <td>13.861386</td>\n",
       "      <td>spike/nose</td>\n",
       "      <td>actin inside</td>\n",
       "      <td>1</td>\n",
       "      <td>101</td>\n",
       "      <td>2.6</td>\n",
       "    </tr>\n",
       "    <tr>\n",
       "      <th>7</th>\n",
       "      <td>5 uM VCA</td>\n",
       "      <td>8.045977</td>\n",
       "      <td>spike/nose</td>\n",
       "      <td>actin inside</td>\n",
       "      <td>1</td>\n",
       "      <td>87</td>\n",
       "      <td>6.5</td>\n",
       "    </tr>\n",
       "    <tr>\n",
       "      <th>empty</th>\n",
       "      <td>empty</td>\n",
       "      <td>NaN</td>\n",
       "      <td>NaN</td>\n",
       "      <td>NaN</td>\n",
       "      <td>NaN</td>\n",
       "      <td>60</td>\n",
       "      <td>none</td>\n",
       "    </tr>\n",
       "  </tbody>\n",
       "</table>\n",
       "<p>115 rows × 7 columns</p>\n",
       "</div>"
      ],
      "text/plain": [
       "             type  % of GUVs   phenotype     condition condition value count  \\\n",
       "1.0    0.5 uM VCA   5.882353  protrusion           all              -1    85   \n",
       "3.0      1 uM VCA  44.186047  protrusion           all              -1   129   \n",
       "5.0      2 uM VCA  48.760331  protrusion           all              -1   121   \n",
       "7.0      5 uM VCA  45.454545  protrusion           all              -1    99   \n",
       "9.0         empty   1.666667  protrusion           all              -1    60   \n",
       "...           ...        ...         ...           ...             ...   ...   \n",
       "1      0.5 uM VCA   1.388889  spike/nose  actin inside               1    72   \n",
       "3        1 uM VCA   9.909910  spike/nose  actin inside               1   111   \n",
       "5        2 uM VCA  13.861386  spike/nose  actin inside               1   101   \n",
       "7        5 uM VCA   8.045977  spike/nose  actin inside               1    87   \n",
       "empty       empty        NaN         NaN           NaN             NaN    60   \n",
       "\n",
       "      VCA (uM)  \n",
       "1.0       0.65  \n",
       "3.0        1.3  \n",
       "5.0        2.6  \n",
       "7.0        6.5  \n",
       "9.0       none  \n",
       "...        ...  \n",
       "1         0.65  \n",
       "3          1.3  \n",
       "5          2.6  \n",
       "7          6.5  \n",
       "empty     none  \n",
       "\n",
       "[115 rows x 7 columns]"
      ]
     },
     "execution_count": 15,
     "metadata": {},
     "output_type": "execute_result"
    }
   ],
   "source": [
    "df_statistics['VCA (uM)'] = ['']*len(df_statistics)\n",
    "df_statistics.loc[df_statistics['type']=='empty', 'VCA (uM)'] = 'none'\n",
    "df_statistics.loc[df_statistics['type']=='0.5 uM VCA', 'VCA (uM)'] = 0.65\n",
    "df_statistics.loc[df_statistics['type']=='1 uM VCA', 'VCA (uM)'] = 1.3\n",
    "#df_statistics.loc[df_statistics['type']=='1.5 uM VCA', 'VCA (uM)'] = 2\n",
    "df_statistics.loc[df_statistics['type']=='2 uM VCA', 'VCA (uM)'] = 2.6\n",
    "df_statistics.loc[df_statistics['type']=='5 uM VCA', 'VCA (uM)'] = 6.5\n",
    "df_statistics"
   ]
  },
  {
   "cell_type": "code",
   "execution_count": 16,
   "metadata": {},
   "outputs": [
    {
     "data": {
      "image/png": "[encoded data removed]",
      "text/plain": [
       "<Figure size 216x360 with 1 Axes>"
      ]
     },
     "metadata": {
      "needs_background": "light"
     },
     "output_type": "display_data"
    }
   ],
   "source": [
    "df_filtered = df_statistics.loc[df_statistics['condition']=='all']\n",
    "\n",
    "prot = ['outward tubes', 'spike/nose', 'bouquet']\n",
    "\n",
    "df_protrusions = df_filtered.loc[df_filtered['phenotype'].isin(prot)]\n",
    "#df_filtered = df_statistics.loc[df_statistics['condition']=='all']\n",
    "\n",
    "df_protrusions\n",
    "\n",
    "f = plt.figure(figsize=[3,5])\n",
    "ax = sns.barplot( data = df_filtered,\n",
    "                x = '% of GUVs',\n",
    "                y = 'phenotype',\n",
    "                hue = 'type',\n",
    "                hue_order=type_order,\n",
    "                palette = 'ocean')\n",
    "\n",
    "ax.legend( bbox_to_anchor=(1.05, 1), loc=2 ) #, title='VCA (uM)')\n",
    "ax.set_xlim([0,100])\n",
    "#ax.set_title(TITLE)\n",
    "\n",
    "plt.show()"
   ]
  },
  {
   "cell_type": "code",
   "execution_count": 17,
   "metadata": {},
   "outputs": [
    {
     "data": {
      "image/png": "[encoded data removed]",
      "text/plain": [
       "<Figure size 532.525x432 with 1 Axes>"
      ]
     },
     "metadata": {
      "needs_background": "light"
     },
     "output_type": "display_data"
    }
   ],
   "source": [
    "#f = plt.figure(figsize=[1, 2])\n",
    "ax = sns.catplot(data=df_protrusions, x='phenotype', \n",
    "                 y='% of GUVs', hue='VCA (uM)', hue_order = VCA_order ,\n",
    "                 order=['outward tubes','spike/nose'],#,'bouquet'],\n",
    "                 height=6,\n",
    "             col=None, kind='bar', palette='Greens',edgecolor=\"grey\").despine(right=False, top=False)\n",
    "\n",
    "ax.set(ylim=[0,100])\n",
    "ax.set_xticklabels(['tubes', 'spikes'])#, 'bouquets'])\n",
    "\n",
    "ax.savefig('protrusions-vs-VCA_box.png', dpi=300, bbox_inches='tight')"
   ]
  },
  {
   "cell_type": "code",
   "execution_count": 18,
   "metadata": {},
   "outputs": [
    {
     "data": {
      "text/html": [
       "<div>\n",
       "<style scoped>\n",
       "    .dataframe tbody tr th:only-of-type {\n",
       "        vertical-align: middle;\n",
       "    }\n",
       "\n",
       "    .dataframe tbody tr th {\n",
       "        vertical-align: top;\n",
       "    }\n",
       "\n",
       "    .dataframe thead th {\n",
       "        text-align: right;\n",
       "    }\n",
       "</style>\n",
       "<table border=\"1\" class=\"dataframe\">\n",
       "  <thead>\n",
       "    <tr style=\"text-align: right;\">\n",
       "      <th></th>\n",
       "      <th>type</th>\n",
       "      <th>% of GUVs</th>\n",
       "      <th>phenotype</th>\n",
       "      <th>condition</th>\n",
       "      <th>condition value</th>\n",
       "      <th>count</th>\n",
       "      <th>VCA (uM)</th>\n",
       "    </tr>\n",
       "  </thead>\n",
       "  <tbody>\n",
       "    <tr>\n",
       "      <th>0.0</th>\n",
       "      <td>0.5 uM VCA</td>\n",
       "      <td>60.000000</td>\n",
       "      <td>bouquet</td>\n",
       "      <td>protrusion</td>\n",
       "      <td>1</td>\n",
       "      <td>5</td>\n",
       "      <td>0.65</td>\n",
       "    </tr>\n",
       "    <tr>\n",
       "      <th>3.0</th>\n",
       "      <td>1 uM VCA</td>\n",
       "      <td>31.578947</td>\n",
       "      <td>bouquet</td>\n",
       "      <td>protrusion</td>\n",
       "      <td>1</td>\n",
       "      <td>57</td>\n",
       "      <td>1.3</td>\n",
       "    </tr>\n",
       "    <tr>\n",
       "      <th>5.0</th>\n",
       "      <td>2 uM VCA</td>\n",
       "      <td>37.288136</td>\n",
       "      <td>bouquet</td>\n",
       "      <td>protrusion</td>\n",
       "      <td>1</td>\n",
       "      <td>59</td>\n",
       "      <td>2.6</td>\n",
       "    </tr>\n",
       "    <tr>\n",
       "      <th>7.0</th>\n",
       "      <td>5 uM VCA</td>\n",
       "      <td>26.666667</td>\n",
       "      <td>bouquet</td>\n",
       "      <td>protrusion</td>\n",
       "      <td>1</td>\n",
       "      <td>45</td>\n",
       "      <td>6.5</td>\n",
       "    </tr>\n",
       "  </tbody>\n",
       "</table>\n",
       "</div>"
      ],
      "text/plain": [
       "           type  % of GUVs phenotype   condition condition value count  \\\n",
       "0.0  0.5 uM VCA  60.000000   bouquet  protrusion               1     5   \n",
       "3.0    1 uM VCA  31.578947   bouquet  protrusion               1    57   \n",
       "5.0    2 uM VCA  37.288136   bouquet  protrusion               1    59   \n",
       "7.0    5 uM VCA  26.666667   bouquet  protrusion               1    45   \n",
       "\n",
       "    VCA (uM)  \n",
       "0.0     0.65  \n",
       "3.0      1.3  \n",
       "5.0      2.6  \n",
       "7.0      6.5  "
      ]
     },
     "execution_count": 18,
     "metadata": {},
     "output_type": "execute_result"
    }
   ],
   "source": [
    "df_bouquets = df_statistics.loc[df_statistics['condition']=='protrusion']\n",
    "df_bouquets"
   ]
  },
  {
   "cell_type": "code",
   "execution_count": 19,
   "metadata": {},
   "outputs": [
    {
     "name": "stderr",
     "output_type": "stream",
     "text": [
      "<ipython-input-19-3fbff0c7d5ec>:1: SettingWithCopyWarning: \n",
      "A value is trying to be set on a copy of a slice from a DataFrame.\n",
      "Try using .loc[row_indexer,col_indexer] = value instead\n",
      "\n",
      "See the caveats in the documentation: https://pandas.pydata.org/pandas-docs/stable/user_guide/indexing.html#returning-a-view-versus-a-copy\n",
      "  df_protrusions['VCA (uM)'] = ['']*len(df_protrusions)\n",
      "C:\\Users\\LBaldauf\\Anaconda3\\lib\\site-packages\\pandas\\core\\indexing.py:1765: SettingWithCopyWarning: \n",
      "A value is trying to be set on a copy of a slice from a DataFrame.\n",
      "Try using .loc[row_indexer,col_indexer] = value instead\n",
      "\n",
      "See the caveats in the documentation: https://pandas.pydata.org/pandas-docs/stable/user_guide/indexing.html#returning-a-view-versus-a-copy\n",
      "  isetter(loc, value)\n"
     ]
    },
    {
     "data": {
      "text/html": [
       "<div>\n",
       "<style scoped>\n",
       "    .dataframe tbody tr th:only-of-type {\n",
       "        vertical-align: middle;\n",
       "    }\n",
       "\n",
       "    .dataframe tbody tr th {\n",
       "        vertical-align: top;\n",
       "    }\n",
       "\n",
       "    .dataframe thead th {\n",
       "        text-align: right;\n",
       "    }\n",
       "</style>\n",
       "<table border=\"1\" class=\"dataframe\">\n",
       "  <thead>\n",
       "    <tr style=\"text-align: right;\">\n",
       "      <th></th>\n",
       "      <th>type</th>\n",
       "      <th>% of GUVs</th>\n",
       "      <th>phenotype</th>\n",
       "      <th>condition</th>\n",
       "      <th>condition value</th>\n",
       "      <th>count</th>\n",
       "      <th>VCA (uM)</th>\n",
       "    </tr>\n",
       "  </thead>\n",
       "  <tbody>\n",
       "    <tr>\n",
       "      <th>1.0</th>\n",
       "      <td>0.5 uM VCA</td>\n",
       "      <td>4.705882</td>\n",
       "      <td>outward tubes</td>\n",
       "      <td>all</td>\n",
       "      <td>-1</td>\n",
       "      <td>85</td>\n",
       "      <td>0.65</td>\n",
       "    </tr>\n",
       "    <tr>\n",
       "      <th>3.0</th>\n",
       "      <td>1 uM VCA</td>\n",
       "      <td>41.085271</td>\n",
       "      <td>outward tubes</td>\n",
       "      <td>all</td>\n",
       "      <td>-1</td>\n",
       "      <td>129</td>\n",
       "      <td>1.3</td>\n",
       "    </tr>\n",
       "    <tr>\n",
       "      <th>5.0</th>\n",
       "      <td>2 uM VCA</td>\n",
       "      <td>44.628099</td>\n",
       "      <td>outward tubes</td>\n",
       "      <td>all</td>\n",
       "      <td>-1</td>\n",
       "      <td>121</td>\n",
       "      <td>2.6</td>\n",
       "    </tr>\n",
       "    <tr>\n",
       "      <th>7.0</th>\n",
       "      <td>5 uM VCA</td>\n",
       "      <td>44.444444</td>\n",
       "      <td>outward tubes</td>\n",
       "      <td>all</td>\n",
       "      <td>-1</td>\n",
       "      <td>99</td>\n",
       "      <td>6.5</td>\n",
       "    </tr>\n",
       "    <tr>\n",
       "      <th>9.0</th>\n",
       "      <td>empty</td>\n",
       "      <td>1.666667</td>\n",
       "      <td>outward tubes</td>\n",
       "      <td>all</td>\n",
       "      <td>-1</td>\n",
       "      <td>60</td>\n",
       "      <td>none</td>\n",
       "    </tr>\n",
       "    <tr>\n",
       "      <th>1.0</th>\n",
       "      <td>0.5 uM VCA</td>\n",
       "      <td>3.529412</td>\n",
       "      <td>bouquet</td>\n",
       "      <td>all</td>\n",
       "      <td>-1</td>\n",
       "      <td>85</td>\n",
       "      <td>0.65</td>\n",
       "    </tr>\n",
       "    <tr>\n",
       "      <th>3.0</th>\n",
       "      <td>1 uM VCA</td>\n",
       "      <td>13.953488</td>\n",
       "      <td>bouquet</td>\n",
       "      <td>all</td>\n",
       "      <td>-1</td>\n",
       "      <td>129</td>\n",
       "      <td>1.3</td>\n",
       "    </tr>\n",
       "    <tr>\n",
       "      <th>5.0</th>\n",
       "      <td>2 uM VCA</td>\n",
       "      <td>18.181818</td>\n",
       "      <td>bouquet</td>\n",
       "      <td>all</td>\n",
       "      <td>-1</td>\n",
       "      <td>121</td>\n",
       "      <td>2.6</td>\n",
       "    </tr>\n",
       "    <tr>\n",
       "      <th>7.0</th>\n",
       "      <td>5 uM VCA</td>\n",
       "      <td>12.121212</td>\n",
       "      <td>bouquet</td>\n",
       "      <td>all</td>\n",
       "      <td>-1</td>\n",
       "      <td>99</td>\n",
       "      <td>6.5</td>\n",
       "    </tr>\n",
       "    <tr>\n",
       "      <th>1.0</th>\n",
       "      <td>0.5 uM VCA</td>\n",
       "      <td>1.176471</td>\n",
       "      <td>spike/nose</td>\n",
       "      <td>all</td>\n",
       "      <td>-1</td>\n",
       "      <td>85</td>\n",
       "      <td>0.65</td>\n",
       "    </tr>\n",
       "    <tr>\n",
       "      <th>3.0</th>\n",
       "      <td>1 uM VCA</td>\n",
       "      <td>8.527132</td>\n",
       "      <td>spike/nose</td>\n",
       "      <td>all</td>\n",
       "      <td>-1</td>\n",
       "      <td>129</td>\n",
       "      <td>1.3</td>\n",
       "    </tr>\n",
       "    <tr>\n",
       "      <th>5.0</th>\n",
       "      <td>2 uM VCA</td>\n",
       "      <td>11.570248</td>\n",
       "      <td>spike/nose</td>\n",
       "      <td>all</td>\n",
       "      <td>-1</td>\n",
       "      <td>121</td>\n",
       "      <td>2.6</td>\n",
       "    </tr>\n",
       "    <tr>\n",
       "      <th>7.0</th>\n",
       "      <td>5 uM VCA</td>\n",
       "      <td>7.070707</td>\n",
       "      <td>spike/nose</td>\n",
       "      <td>all</td>\n",
       "      <td>-1</td>\n",
       "      <td>99</td>\n",
       "      <td>6.5</td>\n",
       "    </tr>\n",
       "  </tbody>\n",
       "</table>\n",
       "</div>"
      ],
      "text/plain": [
       "           type  % of GUVs      phenotype condition condition value count  \\\n",
       "1.0  0.5 uM VCA   4.705882  outward tubes       all              -1    85   \n",
       "3.0    1 uM VCA  41.085271  outward tubes       all              -1   129   \n",
       "5.0    2 uM VCA  44.628099  outward tubes       all              -1   121   \n",
       "7.0    5 uM VCA  44.444444  outward tubes       all              -1    99   \n",
       "9.0       empty   1.666667  outward tubes       all              -1    60   \n",
       "1.0  0.5 uM VCA   3.529412        bouquet       all              -1    85   \n",
       "3.0    1 uM VCA  13.953488        bouquet       all              -1   129   \n",
       "5.0    2 uM VCA  18.181818        bouquet       all              -1   121   \n",
       "7.0    5 uM VCA  12.121212        bouquet       all              -1    99   \n",
       "1.0  0.5 uM VCA   1.176471     spike/nose       all              -1    85   \n",
       "3.0    1 uM VCA   8.527132     spike/nose       all              -1   129   \n",
       "5.0    2 uM VCA  11.570248     spike/nose       all              -1   121   \n",
       "7.0    5 uM VCA   7.070707     spike/nose       all              -1    99   \n",
       "\n",
       "    VCA (uM)  \n",
       "1.0     0.65  \n",
       "3.0      1.3  \n",
       "5.0      2.6  \n",
       "7.0      6.5  \n",
       "9.0     none  \n",
       "1.0     0.65  \n",
       "3.0      1.3  \n",
       "5.0      2.6  \n",
       "7.0      6.5  \n",
       "1.0     0.65  \n",
       "3.0      1.3  \n",
       "5.0      2.6  \n",
       "7.0      6.5  "
      ]
     },
     "execution_count": 19,
     "metadata": {},
     "output_type": "execute_result"
    }
   ],
   "source": [
    "df_protrusions['VCA (uM)'] = ['']*len(df_protrusions)\n",
    "df_protrusions.loc[df_protrusions['type']=='empty', 'VCA (uM)'] = 'none'\n",
    "df_protrusions.loc[df_protrusions['type']=='0.5 uM VCA', 'VCA (uM)'] = 0.65\n",
    "df_protrusions.loc[df_protrusions['type']=='1 uM VCA', 'VCA (uM)'] = 1.3\n",
    "df_protrusions.loc[df_protrusions['type']=='2 uM VCA', 'VCA (uM)'] = 2.6\n",
    "df_protrusions.loc[df_protrusions['type']=='5 uM VCA', 'VCA (uM)'] = 6.5\n",
    "df_protrusions"
   ]
  },
  {
   "cell_type": "markdown",
   "metadata": {},
   "source": [
    "### What fraction of protruded vesicles have actin localized at the base of a protrusion?"
   ]
  },
  {
   "cell_type": "code",
   "execution_count": 20,
   "metadata": {},
   "outputs": [
    {
     "data": {
      "text/plain": [
       "494"
      ]
     },
     "execution_count": 20,
     "metadata": {},
     "output_type": "execute_result"
    }
   ],
   "source": [
    "len(df)"
   ]
  },
  {
   "cell_type": "code",
   "execution_count": 21,
   "metadata": {},
   "outputs": [
    {
     "data": {
      "text/plain": [
       "166"
      ]
     },
     "execution_count": 21,
     "metadata": {},
     "output_type": "execute_result"
    }
   ],
   "source": [
    "len(df.loc[(df['actin inside']!=0) & (df['protrusion']==1)])"
   ]
  },
  {
   "cell_type": "code",
   "execution_count": 22,
   "metadata": {},
   "outputs": [
    {
     "data": {
      "text/plain": [
       "125"
      ]
     },
     "execution_count": 22,
     "metadata": {},
     "output_type": "execute_result"
    }
   ],
   "source": [
    "len(df.loc[(df['actin inside']!=0) & (df['protrusion']==1) & ( (df['loc tube']==1) | (df['loc spike']==1))])"
   ]
  },
  {
   "cell_type": "code",
   "execution_count": 23,
   "metadata": {},
   "outputs": [
    {
     "data": {
      "text/plain": [
       "0.7792207792207793"
      ]
     },
     "execution_count": 23,
     "metadata": {},
     "output_type": "execute_result"
    }
   ],
   "source": [
    "len(df.loc[ (df['actin inside']==1) & (df['protrusion']==1) & ( (df['loc tube']==1) | (df['loc spike']==1))])/len(df.loc[(df['actin inside']==1) & (df['protrusion']==1)])"
   ]
  },
  {
   "cell_type": "code",
   "execution_count": 24,
   "metadata": {},
   "outputs": [
    {
     "data": {
      "text/plain": [
       "120"
      ]
     },
     "execution_count": 24,
     "metadata": {},
     "output_type": "execute_result"
    }
   ],
   "source": [
    "len(df.loc[ (df['actin inside']==1) & (df['protrusion']==1) & ( (df['loc tube']==1) | (df['loc spike']==1))])"
   ]
  },
  {
   "cell_type": "code",
   "execution_count": 25,
   "metadata": {},
   "outputs": [
    {
     "data": {
      "text/plain": [
       "154"
      ]
     },
     "execution_count": 25,
     "metadata": {},
     "output_type": "execute_result"
    }
   ],
   "source": [
    "len(df.loc[(df['actin inside']==1) & (df['protrusion']==1)])"
   ]
  },
  {
   "cell_type": "markdown",
   "metadata": {},
   "source": [
    "# Characterizing protrusions"
   ]
  },
  {
   "cell_type": "code",
   "execution_count": 26,
   "metadata": {},
   "outputs": [
    {
     "data": {
      "text/plain": [
       "Index(['date', 'run', 'image', 'protrusion type', 'protrusion no',\n",
       "       'in bouquet?', 'actin enriched?', 'membrane fuzz', 'length (um)',\n",
       "       'base width (um)', 'aspect ratio', 'actin (uM)', 'Arp type', 'VCA (uM)',\n",
       "       'actin inside', 'cortex', 'flat patches', 'concave patches',\n",
       "       'outward tubes', 'loc tube', 'outward spikes', 'loc spike', 'bouquet',\n",
       "       'inward tube', 'inward fuzz', 'membrane kinks', 'global deformation',\n",
       "       'dumbbell', 'dumbbell loc', 'inside patch', 'diameter (um)'],\n",
       "      dtype='object')"
      ]
     },
     "execution_count": 26,
     "metadata": {},
     "output_type": "execute_result"
    }
   ],
   "source": [
    "df = pd.read_csv('20220217_protrusion_measurements.txt', sep='\\t', decimal=\",\")#, idx_col=None )\n",
    "df['aspect ratio']=df['base width (um)']/df['length (um)']\n",
    "df_cat = pd.read_csv('results_categorization_manual20220116.txt', sep='\\t', decimal=\",\")#, idx_col=None )\n",
    "df_cat.drop(columns=['Unnamed: 23'], inplace=True)\n",
    "\n",
    "df=pd.merge(df, df_cat,\n",
    "    how=\"left\", on=['image', 'date', 'run'], suffixes=(\"\", \"\"))\n",
    "\n",
    "df.columns"
   ]
  },
  {
   "cell_type": "code",
   "execution_count": 27,
   "metadata": {},
   "outputs": [
    {
     "name": "stderr",
     "output_type": "stream",
     "text": [
      "<ipython-input-27-a88218a021ad>:18: SettingWithCopyWarning: \n",
      "A value is trying to be set on a copy of a slice from a DataFrame\n",
      "\n",
      "See the caveats in the documentation: https://pandas.pydata.org/pandas-docs/stable/user_guide/indexing.html#returning-a-view-versus-a-copy\n",
      "  df['type'][ii]='6.5 uM VCA'\n",
      "<ipython-input-27-a88218a021ad>:15: SettingWithCopyWarning: \n",
      "A value is trying to be set on a copy of a slice from a DataFrame\n",
      "\n",
      "See the caveats in the documentation: https://pandas.pydata.org/pandas-docs/stable/user_guide/indexing.html#returning-a-view-versus-a-copy\n",
      "  df['type'][ii]='2.6 uM VCA'\n",
      "<ipython-input-27-a88218a021ad>:12: SettingWithCopyWarning: \n",
      "A value is trying to be set on a copy of a slice from a DataFrame\n",
      "\n",
      "See the caveats in the documentation: https://pandas.pydata.org/pandas-docs/stable/user_guide/indexing.html#returning-a-view-versus-a-copy\n",
      "  df['type'][ii]='1.3 uM VCA'\n",
      "<ipython-input-27-a88218a021ad>:9: SettingWithCopyWarning: \n",
      "A value is trying to be set on a copy of a slice from a DataFrame\n",
      "\n",
      "See the caveats in the documentation: https://pandas.pydata.org/pandas-docs/stable/user_guide/indexing.html#returning-a-view-versus-a-copy\n",
      "  df['type'][ii]='0.65 uM VCA'\n",
      "<ipython-input-27-a88218a021ad>:6: SettingWithCopyWarning: \n",
      "A value is trying to be set on a copy of a slice from a DataFrame\n",
      "\n",
      "See the caveats in the documentation: https://pandas.pydata.org/pandas-docs/stable/user_guide/indexing.html#returning-a-view-versus-a-copy\n",
      "  df['type'][ii]='empty'\n"
     ]
    }
   ],
   "source": [
    "df['type']=['']*len(df)\n",
    "\n",
    "for ii in range(len(df)):\n",
    "   \n",
    "    if df['actin inside'][ii]==0:\n",
    "        df['type'][ii]='empty'\n",
    "        \n",
    "    elif df['VCA (uM)'][ii]==0.5:\n",
    "        df['type'][ii]='0.65 uM VCA'\n",
    "\n",
    "    elif df['VCA (uM)'][ii]==1:\n",
    "        df['type'][ii]='1.3 uM VCA'\n",
    "        \n",
    "    elif df['VCA (uM)'][ii]==2:\n",
    "        df['type'][ii]='2.6 uM VCA'\n",
    "        \n",
    "    elif df['VCA (uM)'][ii]==5:\n",
    "        df['type'][ii]='6.5 uM VCA'"
   ]
  },
  {
   "cell_type": "code",
   "execution_count": 28,
   "metadata": {},
   "outputs": [
    {
     "name": "stderr",
     "output_type": "stream",
     "text": [
      "No artists with labels found to put in legend.  Note that artists whose label start with an underscore are ignored when legend() is called with no argument.\n"
     ]
    },
    {
     "data": {
      "image/png": "[encoded data removed]",
      "text/plain": [
       "<Figure size 129.6x288 with 1 Axes>"
      ]
     },
     "metadata": {
      "needs_background": "light"
     },
     "output_type": "display_data"
    }
   ],
   "source": [
    "f = plt.figure(figsize=[1.8, 4])\n",
    "\n",
    "ax=sns.histplot(data=df, y='base width (um)', bins = 30,#y='length (um)', \n",
    "                   #s=30, alpha=0.5,\n",
    "                   hue='protrusion type', hue_order = ['tube', 'spike'],\n",
    "                palette=['goldenrod', 'm'])\n",
    "\n",
    "ax.legend( bbox_to_anchor=(1.5, 1), loc=2 )\n",
    "\n",
    "ax.set_ylabel('length (\\u03bcm)')\n",
    "\n",
    "ax.yaxis.set_label_position(\"right\")\n",
    "ax.yaxis.tick_right()\n",
    "ax.yaxis.set_label_position(\"right\")\n",
    "\n",
    "\n",
    "ax.set_ylim(-0.2,5.3)\n",
    "ax.set_xlim(0,35)\n",
    "\n",
    "fig = ax.get_figure()\n",
    "fig.savefig('protrusion-width-histogram.png', dpi=300, bbox_inches='tight')"
   ]
  },
  {
   "cell_type": "code",
   "execution_count": 29,
   "metadata": {},
   "outputs": [
    {
     "name": "stderr",
     "output_type": "stream",
     "text": [
      "No artists with labels found to put in legend.  Note that artists whose label start with an underscore are ignored when legend() is called with no argument.\n"
     ]
    },
    {
     "data": {
      "image/png": "[encoded data removed]",
      "text/plain": [
       "<Figure size 576x288 with 1 Axes>"
      ]
     },
     "metadata": {
      "needs_background": "light"
     },
     "output_type": "display_data"
    }
   ],
   "source": [
    "f = plt.figure(figsize=[8, 4])\n",
    "\n",
    "ax=sns.histplot(data=df, y='base width (um)', bins = 30,#y='length (um)', \n",
    "                   #s=30, alpha=0.5,\n",
    "                   hue='protrusion type', hue_order = ['tube', 'spike'],\n",
    "                palette=['goldenrod', 'm'])\n",
    "\n",
    "ax.legend( bbox_to_anchor=(1.5, 1), loc=2 )\n",
    "\n",
    "ax.set_ylabel('length (\\u03bcm)')\n",
    "\n",
    "ax.yaxis.set_label_position(\"right\")\n",
    "ax.yaxis.tick_right()\n",
    "ax.yaxis.set_label_position(\"right\")\n",
    "\n",
    "\n",
    "ax.set_ylim(-0.2,5.3)\n",
    "ax.set_xlim(0,265)\n",
    "\n",
    "fig = ax.get_figure()\n",
    "fig.savefig('protrusion-width-histogram_long.png', dpi=300, bbox_inches='tight')"
   ]
  },
  {
   "cell_type": "code",
   "execution_count": 30,
   "metadata": {},
   "outputs": [
    {
     "name": "stderr",
     "output_type": "stream",
     "text": [
      "No artists with labels found to put in legend.  Note that artists whose label start with an underscore are ignored when legend() is called with no argument.\n"
     ]
    },
    {
     "data": {
      "image/png": "[encoded data removed]",
      "text/plain": [
       "<Figure size 180x288 with 1 Axes>"
      ]
     },
     "metadata": {
      "needs_background": "light"
     },
     "output_type": "display_data"
    }
   ],
   "source": [
    "f = plt.figure(figsize=[2.5, 4])\n",
    "\n",
    "ax=sns.histplot(data=df, y='length (um)', bins = 30,#y='length (um)', \n",
    "                   #s=30, alpha=0.5,\n",
    "                   hue='protrusion type', hue_order = ['tube', 'spike'],\n",
    "                palette=['goldenrod', 'm'])\n",
    "\n",
    "ax.legend( bbox_to_anchor=(1.5, 1), loc=2 )\n",
    "\n",
    "ax.set_ylabel('length (\\u03bcm)')\n",
    "\n",
    "ax.yaxis.set_label_position(\"right\")\n",
    "ax.yaxis.tick_right()\n",
    "ax.yaxis.set_label_position(\"right\")\n",
    "\n",
    "\n",
    "ax.set_ylim(0,27)\n",
    "\n",
    "fig = ax.get_figure()\n",
    "fig.savefig('protrusion-length-histogram.png', dpi=300, bbox_inches='tight')"
   ]
  },
  {
   "cell_type": "code",
   "execution_count": 31,
   "metadata": {},
   "outputs": [
    {
     "data": {
      "image/png": "[encoded data removed]",
      "text/plain": [
       "<Figure size 360x288 with 1 Axes>"
      ]
     },
     "metadata": {
      "needs_background": "light"
     },
     "output_type": "display_data"
    }
   ],
   "source": [
    "f = plt.figure(figsize=[5, 4])\n",
    "\n",
    "ax=sns.scatterplot(data=df, x='diameter (um)', y='length (um)', \n",
    "                   s=30, alpha=0.5,\n",
    "                   hue='protrusion type', palette=['goldenrod', 'm'])\n",
    "ax.legend( bbox_to_anchor=(1.05, 1), loc=2 )\n",
    "ax.set_xlabel('GUV diameter (\\u03bcm)')\n",
    "ax.set_ylabel('protrusion length (\\u03bcm)')\n",
    "\n",
    "ax.set_xlim(0,40)\n",
    "ax.set_ylim(0,27)\n",
    "\n",
    "fig = ax.get_figure()\n",
    "fig.savefig('protrusion-length_vs-GUVsize.png', dpi=300, bbox_inches='tight')"
   ]
  },
  {
   "cell_type": "code",
   "execution_count": 32,
   "metadata": {},
   "outputs": [
    {
     "data": {
      "image/png": "[encoded data removed]",
      "text/plain": [
       "<Figure size 360x288 with 1 Axes>"
      ]
     },
     "metadata": {
      "needs_background": "light"
     },
     "output_type": "display_data"
    }
   ],
   "source": [
    "f = plt.figure(figsize=[5, 4])\n",
    "\n",
    "ax=sns.scatterplot(data=df, x='diameter (um)', y='base width (um)', \n",
    "                   s=30, alpha=0.5,\n",
    "                   hue='protrusion type', palette=['goldenrod', 'm']) #palette='Greens', \n",
    "                   #hue_order=['empty', '0.65 uM VCA', '1.3 uM VCA', '2.6 uM VCA', '6.5 uM VCA'])\n",
    "ax.set_xlabel('GUV diameter (\\u03bcm)')\n",
    "ax.set_ylabel('base width (\\u03bcm)')\n",
    "ax.legend( bbox_to_anchor=(1.05, 1), loc=2 )\n",
    "\n",
    "\n",
    "ax.set_xlim(0,40)\n",
    "ax.set_ylim(-0.2,5.3)\n",
    "\n",
    "\n",
    "fig = ax.get_figure()\n",
    "fig.savefig('protrusion-base_vs-GUVsize.png', dpi=300, bbox_inches='tight')"
   ]
  },
  {
   "cell_type": "code",
   "execution_count": 33,
   "metadata": {},
   "outputs": [
    {
     "name": "stdout",
     "output_type": "stream",
     "text": [
      "N tubes:  261\n",
      "N spikes:  157\n"
     ]
    }
   ],
   "source": [
    "print('N tubes: ', len(df.loc[(df['protrusion type']=='tube')]))\n",
    "print('N spikes: ', len(df.loc[(df['protrusion type']=='spike')]))"
   ]
  },
  {
   "cell_type": "code",
   "execution_count": 34,
   "metadata": {},
   "outputs": [
    {
     "data": {
      "text/html": [
       "<div>\n",
       "<style scoped>\n",
       "    .dataframe tbody tr th:only-of-type {\n",
       "        vertical-align: middle;\n",
       "    }\n",
       "\n",
       "    .dataframe tbody tr th {\n",
       "        vertical-align: top;\n",
       "    }\n",
       "\n",
       "    .dataframe thead th {\n",
       "        text-align: right;\n",
       "    }\n",
       "</style>\n",
       "<table border=\"1\" class=\"dataframe\">\n",
       "  <thead>\n",
       "    <tr style=\"text-align: right;\">\n",
       "      <th></th>\n",
       "      <th>protrusion</th>\n",
       "      <th>% in bouquet</th>\n",
       "      <th>N</th>\n",
       "    </tr>\n",
       "  </thead>\n",
       "  <tbody>\n",
       "    <tr>\n",
       "      <th>0</th>\n",
       "      <td>tube</td>\n",
       "      <td>60.1533</td>\n",
       "      <td>261</td>\n",
       "    </tr>\n",
       "    <tr>\n",
       "      <th>1</th>\n",
       "      <td>spike</td>\n",
       "      <td>56.051</td>\n",
       "      <td>157</td>\n",
       "    </tr>\n",
       "  </tbody>\n",
       "</table>\n",
       "</div>"
      ],
      "text/plain": [
       "  protrusion % in bouquet    N\n",
       "0       tube      60.1533  261\n",
       "1      spike       56.051  157"
      ]
     },
     "execution_count": 34,
     "metadata": {},
     "output_type": "execute_result"
    }
   ],
   "source": [
    "df_inbouquet = pd.DataFrame(index=np.arange(2), columns=['protrusion', '% in bouquet', 'N'])\n",
    "df_inbouquet.iloc[0]=['tube', \n",
    "                      100*df.groupby('protrusion type').sum()['in bouquet?']['tube']/len(df.loc[df['protrusion type']=='tube']),\n",
    "                      len(df.loc[df['protrusion type']=='tube'])]\n",
    "df_inbouquet.iloc[1]=['spike', \n",
    "                      100*df.groupby('protrusion type').sum()['in bouquet?']['spike']/len(df.loc[df['protrusion type']=='spike']),\n",
    "                      len(df.loc[df['protrusion type']=='spike'])]\n",
    "\n",
    "df_inbouquet"
   ]
  }
 ],
 "metadata": {
  "kernelspec": {
   "display_name": "Python 3",
   "language": "python",
   "name": "python3"
  },
  "language_info": {
   "codemirror_mode": {
    "name": "ipython",
    "version": 3
   },
   "file_extension": ".py",
   "mimetype": "text/x-python",
   "name": "python",
   "nbconvert_exporter": "python",
   "pygments_lexer": "ipython3",
   "version": "3.8.5"
  }
 },
 "nbformat": 4,
 "nbformat_minor": 4
}
